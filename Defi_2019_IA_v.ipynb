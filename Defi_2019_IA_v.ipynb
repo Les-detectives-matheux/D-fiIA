{
 "cells": [
  {
   "cell_type": "markdown",
   "metadata": {},
   "source": [
    "# Défi INSA Toulouse 2019"
   ]
  },
  {
   "cell_type": "markdown",
   "metadata": {},
   "source": [
    "## Bibliographie\n",
    "\n",
    "Application of Once Class SVM to detect anomaly : https://www.kaggle.com/amarnayak/once-class-svm-to-detect-anomaly/data\n",
    "\n",
    "Code qui compare une SVM sur R et Python : http://eric.univ-lyon2.fr/~ricco/tanagra/fichiers/fr_Tanagra_SVM_R_Python.pdf\n",
    "\n",
    "Site pour comprendre ce qu'est une One-Class SVM : http://rvlasveld.github.io/blog/2013/07/12/introduction-to-one-class-support-vector-machines/\n",
    "\n",
    "Fonction sur python de la fonction OneClassSVM (fonction équivalente à la section du site au-dessus de la One-Class SVM selon Schölkopf): https://scikit-learn.org/stable/modules/generated/sklearn.svm.OneClassSVM.html\n",
    "\n",
    "Exemple utilisant la fonction One-class SVM : https://scikit-learn.org/stable/auto_examples/svm/plot_oneclass.html#sphx-glr-auto-examples-svm-plot-oneclass-py"
   ]
  },
  {
   "cell_type": "markdown",
   "metadata": {},
   "source": [
    "## Traitement des données"
   ]
  },
  {
   "cell_type": "code",
   "execution_count": 22,
   "metadata": {},
   "outputs": [],
   "source": [
    "import matplotlib.pyplot as plt\n",
    "import pandas as pd\n",
    "import numpy as np\n",
    "from sklearn import svm\n",
    "from sklearn.cluster import KMeans"
   ]
  },
  {
   "cell_type": "code",
   "execution_count": 2,
   "metadata": {},
   "outputs": [],
   "source": [
    "data_train = pd.read_hdf('train.hdf5')"
   ]
  },
  {
   "cell_type": "markdown",
   "metadata": {},
   "source": [
    "Les données sont composées de séquences d'une minute de mesure d'accéléromètre à une fréquence de 1024 Herts.\n",
    "\n",
    "60 * 1024 = 61440 variables/colonnes\n",
    "\n",
    "Training Data : Le jeux de données d'apprentissage est composé de 1677 séquences.\n",
    "\n",
    "Toutes ces séquences sont considérées comme des séquences normales.\n",
    "\n",
    "Elles doivent être utilisées pour apprendre le comportement normal des accéléromètres."
   ]
  },
  {
   "cell_type": "code",
   "execution_count": 3,
   "metadata": {},
   "outputs": [],
   "source": [
    "data_valid = pd.read_hdf('validation.hdf5')"
   ]
  },
  {
   "cell_type": "markdown",
   "metadata": {},
   "source": [
    "Validation Data : Le jeu de données de validation est composé de 594 séquences.\n",
    "    \n",
    "Les localisations et les angles peuvent, ou pas, être différentes de celles du jeu de données d'apprentissage. \n",
    "\n",
    "Un taux inconnu de ces séquences présentens un comportement anormal. \n",
    "\n",
    "Ces séquences doivent être détectées en les comparant aux séquences normales du jeu de données d'apprentissage."
   ]
  },
  {
   "cell_type": "code",
   "execution_count": 5,
   "metadata": {},
   "outputs": [
    {
     "data": {
      "text/html": [
       "<div>\n",
       "<style scoped>\n",
       "    .dataframe tbody tr th:only-of-type {\n",
       "        vertical-align: middle;\n",
       "    }\n",
       "\n",
       "    .dataframe tbody tr th {\n",
       "        vertical-align: top;\n",
       "    }\n",
       "\n",
       "    .dataframe thead th {\n",
       "        text-align: right;\n",
       "    }\n",
       "</style>\n",
       "<table border=\"1\" class=\"dataframe\">\n",
       "  <thead>\n",
       "    <tr style=\"text-align: right;\">\n",
       "      <th></th>\n",
       "      <th>0</th>\n",
       "      <th>1</th>\n",
       "      <th>2</th>\n",
       "      <th>3</th>\n",
       "      <th>4</th>\n",
       "      <th>5</th>\n",
       "      <th>6</th>\n",
       "      <th>7</th>\n",
       "      <th>8</th>\n",
       "      <th>9</th>\n",
       "      <th>...</th>\n",
       "      <th>61430</th>\n",
       "      <th>61431</th>\n",
       "      <th>61432</th>\n",
       "      <th>61433</th>\n",
       "      <th>61434</th>\n",
       "      <th>61435</th>\n",
       "      <th>61436</th>\n",
       "      <th>61437</th>\n",
       "      <th>61438</th>\n",
       "      <th>61439</th>\n",
       "    </tr>\n",
       "  </thead>\n",
       "  <tbody>\n",
       "    <tr>\n",
       "      <th>0</th>\n",
       "      <td>0.041259</td>\n",
       "      <td>0.041259</td>\n",
       "      <td>0.032573</td>\n",
       "      <td>0.023887</td>\n",
       "      <td>0.029315</td>\n",
       "      <td>0.041259</td>\n",
       "      <td>0.045602</td>\n",
       "      <td>0.038001</td>\n",
       "      <td>0.030401</td>\n",
       "      <td>0.032573</td>\n",
       "      <td>...</td>\n",
       "      <td>0.034744</td>\n",
       "      <td>-0.007600</td>\n",
       "      <td>-0.003257</td>\n",
       "      <td>0.065145</td>\n",
       "      <td>0.047773</td>\n",
       "      <td>-0.009772</td>\n",
       "      <td>0.031487</td>\n",
       "      <td>0.096632</td>\n",
       "      <td>0.077089</td>\n",
       "      <td>0.040173</td>\n",
       "    </tr>\n",
       "    <tr>\n",
       "      <th>1</th>\n",
       "      <td>-0.211722</td>\n",
       "      <td>-0.264924</td>\n",
       "      <td>-0.274696</td>\n",
       "      <td>-0.236694</td>\n",
       "      <td>-0.156349</td>\n",
       "      <td>-0.059716</td>\n",
       "      <td>0.005429</td>\n",
       "      <td>0.046687</td>\n",
       "      <td>0.153091</td>\n",
       "      <td>0.281210</td>\n",
       "      <td>...</td>\n",
       "      <td>0.260581</td>\n",
       "      <td>-0.004343</td>\n",
       "      <td>-0.241037</td>\n",
       "      <td>-0.636252</td>\n",
       "      <td>-0.953292</td>\n",
       "      <td>-0.980436</td>\n",
       "      <td>-0.846888</td>\n",
       "      <td>-0.838202</td>\n",
       "      <td>-0.880546</td>\n",
       "      <td>-0.739398</td>\n",
       "    </tr>\n",
       "    <tr>\n",
       "      <th>2</th>\n",
       "      <td>0.214105</td>\n",
       "      <td>0.154930</td>\n",
       "      <td>0.136640</td>\n",
       "      <td>0.013987</td>\n",
       "      <td>-0.038733</td>\n",
       "      <td>-0.015063</td>\n",
       "      <td>-0.111894</td>\n",
       "      <td>-0.104363</td>\n",
       "      <td>0.047340</td>\n",
       "      <td>-0.054871</td>\n",
       "      <td>...</td>\n",
       "      <td>0.040884</td>\n",
       "      <td>0.375490</td>\n",
       "      <td>0.699337</td>\n",
       "      <td>0.965085</td>\n",
       "      <td>1.086662</td>\n",
       "      <td>1.132926</td>\n",
       "      <td>1.279249</td>\n",
       "      <td>1.296464</td>\n",
       "      <td>0.937112</td>\n",
       "      <td>0.451879</td>\n",
       "    </tr>\n",
       "    <tr>\n",
       "      <th>3</th>\n",
       "      <td>-0.154837</td>\n",
       "      <td>-0.127768</td>\n",
       "      <td>-0.217638</td>\n",
       "      <td>-0.284770</td>\n",
       "      <td>-0.299929</td>\n",
       "      <td>-0.270694</td>\n",
       "      <td>-0.077960</td>\n",
       "      <td>0.092036</td>\n",
       "      <td>0.076877</td>\n",
       "      <td>0.154837</td>\n",
       "      <td>...</td>\n",
       "      <td>-0.286936</td>\n",
       "      <td>-0.171079</td>\n",
       "      <td>-0.036814</td>\n",
       "      <td>-0.024904</td>\n",
       "      <td>0.031400</td>\n",
       "      <td>0.140761</td>\n",
       "      <td>-0.011911</td>\n",
       "      <td>-0.173244</td>\n",
       "      <td>-0.063884</td>\n",
       "      <td>0.081208</td>\n",
       "    </tr>\n",
       "    <tr>\n",
       "      <th>4</th>\n",
       "      <td>-1.022780</td>\n",
       "      <td>-0.916376</td>\n",
       "      <td>-0.676425</td>\n",
       "      <td>-0.461445</td>\n",
       "      <td>-0.330069</td>\n",
       "      <td>-0.122690</td>\n",
       "      <td>0.178064</td>\n",
       "      <td>0.489675</td>\n",
       "      <td>0.799115</td>\n",
       "      <td>0.931577</td>\n",
       "      <td>...</td>\n",
       "      <td>1.009751</td>\n",
       "      <td>1.134613</td>\n",
       "      <td>0.836030</td>\n",
       "      <td>0.479903</td>\n",
       "      <td>0.109661</td>\n",
       "      <td>-0.285553</td>\n",
       "      <td>-0.628651</td>\n",
       "      <td>-0.916376</td>\n",
       "      <td>-1.010837</td>\n",
       "      <td>-0.804544</td>\n",
       "    </tr>\n",
       "  </tbody>\n",
       "</table>\n",
       "<p>5 rows × 61440 columns</p>\n",
       "</div>"
      ],
      "text/plain": [
       "      0         1         2         3         4         5         6      \\\n",
       "0  0.041259  0.041259  0.032573  0.023887  0.029315  0.041259  0.045602   \n",
       "1 -0.211722 -0.264924 -0.274696 -0.236694 -0.156349 -0.059716  0.005429   \n",
       "2  0.214105  0.154930  0.136640  0.013987 -0.038733 -0.015063 -0.111894   \n",
       "3 -0.154837 -0.127768 -0.217638 -0.284770 -0.299929 -0.270694 -0.077960   \n",
       "4 -1.022780 -0.916376 -0.676425 -0.461445 -0.330069 -0.122690  0.178064   \n",
       "\n",
       "      7         8         9      ...     61430     61431     61432     61433  \\\n",
       "0  0.038001  0.030401  0.032573  ...  0.034744 -0.007600 -0.003257  0.065145   \n",
       "1  0.046687  0.153091  0.281210  ...  0.260581 -0.004343 -0.241037 -0.636252   \n",
       "2 -0.104363  0.047340 -0.054871  ...  0.040884  0.375490  0.699337  0.965085   \n",
       "3  0.092036  0.076877  0.154837  ... -0.286936 -0.171079 -0.036814 -0.024904   \n",
       "4  0.489675  0.799115  0.931577  ...  1.009751  1.134613  0.836030  0.479903   \n",
       "\n",
       "      61434     61435     61436     61437     61438     61439  \n",
       "0  0.047773 -0.009772  0.031487  0.096632  0.077089  0.040173  \n",
       "1 -0.953292 -0.980436 -0.846888 -0.838202 -0.880546 -0.739398  \n",
       "2  1.086662  1.132926  1.279249  1.296464  0.937112  0.451879  \n",
       "3  0.031400  0.140761 -0.011911 -0.173244 -0.063884  0.081208  \n",
       "4  0.109661 -0.285553 -0.628651 -0.916376 -1.010837 -0.804544  \n",
       "\n",
       "[5 rows x 61440 columns]"
      ]
     },
     "execution_count": 5,
     "metadata": {},
     "output_type": "execute_result"
    }
   ],
   "source": [
    "data_train.head()"
   ]
  },
  {
   "cell_type": "code",
   "execution_count": 6,
   "metadata": {},
   "outputs": [
    {
     "data": {
      "text/html": [
       "<div>\n",
       "<style scoped>\n",
       "    .dataframe tbody tr th:only-of-type {\n",
       "        vertical-align: middle;\n",
       "    }\n",
       "\n",
       "    .dataframe tbody tr th {\n",
       "        vertical-align: top;\n",
       "    }\n",
       "\n",
       "    .dataframe thead th {\n",
       "        text-align: right;\n",
       "    }\n",
       "</style>\n",
       "<table border=\"1\" class=\"dataframe\">\n",
       "  <thead>\n",
       "    <tr style=\"text-align: right;\">\n",
       "      <th></th>\n",
       "      <th>0</th>\n",
       "      <th>1</th>\n",
       "      <th>2</th>\n",
       "      <th>3</th>\n",
       "      <th>4</th>\n",
       "      <th>5</th>\n",
       "      <th>6</th>\n",
       "      <th>7</th>\n",
       "      <th>8</th>\n",
       "      <th>9</th>\n",
       "      <th>...</th>\n",
       "      <th>61430</th>\n",
       "      <th>61431</th>\n",
       "      <th>61432</th>\n",
       "      <th>61433</th>\n",
       "      <th>61434</th>\n",
       "      <th>61435</th>\n",
       "      <th>61436</th>\n",
       "      <th>61437</th>\n",
       "      <th>61438</th>\n",
       "      <th>61439</th>\n",
       "    </tr>\n",
       "  </thead>\n",
       "  <tbody>\n",
       "    <tr>\n",
       "      <th>0</th>\n",
       "      <td>0.070650</td>\n",
       "      <td>0.085524</td>\n",
       "      <td>0.076847</td>\n",
       "      <td>0.085524</td>\n",
       "      <td>0.120229</td>\n",
       "      <td>0.140061</td>\n",
       "      <td>0.107834</td>\n",
       "      <td>0.048340</td>\n",
       "      <td>0.014874</td>\n",
       "      <td>0.030987</td>\n",
       "      <td>...</td>\n",
       "      <td>0.018592</td>\n",
       "      <td>-0.017353</td>\n",
       "      <td>-0.049579</td>\n",
       "      <td>-0.061974</td>\n",
       "      <td>-0.022311</td>\n",
       "      <td>0.052058</td>\n",
       "      <td>0.091721</td>\n",
       "      <td>0.075608</td>\n",
       "      <td>0.045861</td>\n",
       "      <td>0.027268</td>\n",
       "    </tr>\n",
       "    <tr>\n",
       "      <th>1</th>\n",
       "      <td>-0.300685</td>\n",
       "      <td>-0.882656</td>\n",
       "      <td>-1.733789</td>\n",
       "      <td>-2.181179</td>\n",
       "      <td>-1.942328</td>\n",
       "      <td>-1.719240</td>\n",
       "      <td>-1.981126</td>\n",
       "      <td>-2.323034</td>\n",
       "      <td>-2.325459</td>\n",
       "      <td>-2.349708</td>\n",
       "      <td>...</td>\n",
       "      <td>0.454665</td>\n",
       "      <td>-0.782024</td>\n",
       "      <td>-1.725302</td>\n",
       "      <td>-1.829572</td>\n",
       "      <td>-1.170004</td>\n",
       "      <td>-0.278861</td>\n",
       "      <td>-0.152767</td>\n",
       "      <td>-1.035424</td>\n",
       "      <td>-2.312123</td>\n",
       "      <td>-3.199628</td>\n",
       "    </tr>\n",
       "    <tr>\n",
       "      <th>2</th>\n",
       "      <td>-0.056398</td>\n",
       "      <td>-0.152028</td>\n",
       "      <td>-0.058850</td>\n",
       "      <td>0.140994</td>\n",
       "      <td>0.170419</td>\n",
       "      <td>0.154480</td>\n",
       "      <td>0.270954</td>\n",
       "      <td>0.359228</td>\n",
       "      <td>0.334708</td>\n",
       "      <td>0.349420</td>\n",
       "      <td>...</td>\n",
       "      <td>0.023295</td>\n",
       "      <td>-0.019617</td>\n",
       "      <td>-0.062528</td>\n",
       "      <td>-0.094405</td>\n",
       "      <td>-0.105439</td>\n",
       "      <td>-0.123830</td>\n",
       "      <td>-0.166741</td>\n",
       "      <td>-0.159385</td>\n",
       "      <td>-0.106665</td>\n",
       "      <td>-0.131186</td>\n",
       "    </tr>\n",
       "    <tr>\n",
       "      <th>3</th>\n",
       "      <td>0.030618</td>\n",
       "      <td>0.020412</td>\n",
       "      <td>0.058747</td>\n",
       "      <td>0.124712</td>\n",
       "      <td>0.155828</td>\n",
       "      <td>0.161553</td>\n",
       "      <td>0.167777</td>\n",
       "      <td>0.170515</td>\n",
       "      <td>0.165038</td>\n",
       "      <td>0.141141</td>\n",
       "      <td>...</td>\n",
       "      <td>-0.073682</td>\n",
       "      <td>-0.052524</td>\n",
       "      <td>-0.023897</td>\n",
       "      <td>-0.009210</td>\n",
       "      <td>0.016429</td>\n",
       "      <td>0.058000</td>\n",
       "      <td>0.097828</td>\n",
       "      <td>0.114755</td>\n",
       "      <td>0.090360</td>\n",
       "      <td>0.054764</td>\n",
       "    </tr>\n",
       "    <tr>\n",
       "      <th>4</th>\n",
       "      <td>-1.071597</td>\n",
       "      <td>-6.912540</td>\n",
       "      <td>-13.677612</td>\n",
       "      <td>-16.463519</td>\n",
       "      <td>-15.790084</td>\n",
       "      <td>-11.653620</td>\n",
       "      <td>-7.668311</td>\n",
       "      <td>-9.942997</td>\n",
       "      <td>-14.321553</td>\n",
       "      <td>-13.704648</td>\n",
       "      <td>...</td>\n",
       "      <td>-5.227723</td>\n",
       "      <td>-6.107613</td>\n",
       "      <td>-6.577051</td>\n",
       "      <td>-6.123589</td>\n",
       "      <td>-5.324806</td>\n",
       "      <td>-4.965969</td>\n",
       "      <td>-4.464579</td>\n",
       "      <td>-3.442138</td>\n",
       "      <td>-3.794831</td>\n",
       "      <td>-6.133420</td>\n",
       "    </tr>\n",
       "  </tbody>\n",
       "</table>\n",
       "<p>5 rows × 61440 columns</p>\n",
       "</div>"
      ],
      "text/plain": [
       "      0         1          2          3          4          5         6      \\\n",
       "0  0.070650  0.085524   0.076847   0.085524   0.120229   0.140061  0.107834   \n",
       "1 -0.300685 -0.882656  -1.733789  -2.181179  -1.942328  -1.719240 -1.981126   \n",
       "2 -0.056398 -0.152028  -0.058850   0.140994   0.170419   0.154480  0.270954   \n",
       "3  0.030618  0.020412   0.058747   0.124712   0.155828   0.161553  0.167777   \n",
       "4 -1.071597 -6.912540 -13.677612 -16.463519 -15.790084 -11.653620 -7.668311   \n",
       "\n",
       "      7          8          9      ...     61430     61431     61432  \\\n",
       "0  0.048340   0.014874   0.030987  ...  0.018592 -0.017353 -0.049579   \n",
       "1 -2.323034  -2.325459  -2.349708  ...  0.454665 -0.782024 -1.725302   \n",
       "2  0.359228   0.334708   0.349420  ...  0.023295 -0.019617 -0.062528   \n",
       "3  0.170515   0.165038   0.141141  ... -0.073682 -0.052524 -0.023897   \n",
       "4 -9.942997 -14.321553 -13.704648  ... -5.227723 -6.107613 -6.577051   \n",
       "\n",
       "      61433     61434     61435     61436     61437     61438     61439  \n",
       "0 -0.061974 -0.022311  0.052058  0.091721  0.075608  0.045861  0.027268  \n",
       "1 -1.829572 -1.170004 -0.278861 -0.152767 -1.035424 -2.312123 -3.199628  \n",
       "2 -0.094405 -0.105439 -0.123830 -0.166741 -0.159385 -0.106665 -0.131186  \n",
       "3 -0.009210  0.016429  0.058000  0.097828  0.114755  0.090360  0.054764  \n",
       "4 -6.123589 -5.324806 -4.965969 -4.464579 -3.442138 -3.794831 -6.133420  \n",
       "\n",
       "[5 rows x 61440 columns]"
      ]
     },
     "execution_count": 6,
     "metadata": {},
     "output_type": "execute_result"
    }
   ],
   "source": [
    "data_valid.head()"
   ]
  },
  {
   "cell_type": "markdown",
   "metadata": {},
   "source": [
    "Interprétation du nu:\n",
    "    \n",
    "Le paramètre nu correspond à une limite supérieur de vecteurs supports, et une limite inférieure de points d'entrainements mal classées/en dehors de la marge estimée (par exemple, si nu=0.05, alors on est assuré de trouver au plus 5% de nos points d'entrainement mal classées au prix d'une petite marge, mais au moins 5% des points d'entrainements qui seront des vecteurs supports).\n",
    "L'augmentation du paramètre \"nu\" entraîne un sous-ajustement et une petite valeur pour \"nu\" provoque un surajustement.\n",
    "\n",
    "Interprétation de gamma:\n",
    "    \n",
    "Une valeur de gamma faible signifie que le modèle est moins enclin au sur-ajustement => cela conduit à un biais élevé, et une variance faible du modèle.\n",
    "Une valeur de gamma forte signifie que le modèle sur-ajuste => cela conduit à un biais faible et une variance élevée du modèle."
   ]
  },
  {
   "cell_type": "markdown",
   "metadata": {},
   "source": [
    "# Optimisation paramètres de la SVM One Class"
   ]
  },
  {
   "cell_type": "markdown",
   "metadata": {},
   "source": [
    "On va tenter de regarder si on gagne du temps en pré-calculant la matrice de gram."
   ]
  },
  {
   "cell_type": "code",
   "execution_count": null,
   "metadata": {},
   "outputs": [],
   "source": [
    "# https://stackoverflow.com/questions/26962159/how-to-use-a-custom-svm-kernel\n",
    "\n",
    "# Exemple trouvé sur internet\n",
    "import numpy as np\n",
    "\n",
    "from sklearn import svm\n",
    "\n",
    "\n",
    "def gaussianKernelGramMatrixFull(X1, X2, sigma=0.1):\n",
    "    \"\"\"(Pre)calculates Gram Matrix K\"\"\"\n",
    "\n",
    "    gram_matrix = np.zeros((X1.shape[0], X2.shape[0]))\n",
    "    for i, x1 in enumerate(X1):\n",
    "        for j, x2 in enumerate(X2):\n",
    "            x1 = x1.flatten()\n",
    "            x2 = x2.flatten()\n",
    "            gram_matrix[i, j] = np.exp(- np.sum( np.power((x1 - x2),2) ) / float( 2*(sigma**2) ) )\n",
    "    return gram_matrix\n",
    "\n",
    "X=...\n",
    "y=...\n",
    "Xval=...\n",
    "\n",
    "C=0.1\n",
    "clf = svm.SVC(C = C, kernel=\"precomputed\")\n",
    "model = clf.fit( gaussianKernelGramMatrixFull(X,X), y )\n",
    "\n",
    "p = model.predict( gaussianKernelGramMatrixFull(Xval, X) )"
   ]
  },
  {
   "cell_type": "markdown",
   "metadata": {},
   "source": [
    "## Regardons le temps de calcul pour une one-class SVM en lui fournissant :\n",
    "- une matrice de Gram pré-calculée en utilisant le noyau \"precomputed\", qui a pour formule : K(xi, xj) = exp ( - gamma * d(xi, xj)^2 )\n",
    "- le paramètre \"rbf\""
   ]
  },
  {
   "cell_type": "markdown",
   "metadata": {},
   "source": [
    "### Avec la matrice de Gram pré-calculée"
   ]
  },
  {
   "cell_type": "code",
   "execution_count": 15,
   "metadata": {},
   "outputs": [
    {
     "name": "stdout",
     "output_type": "stream",
     "text": [
      "--- 273.27357721328735 seconds ---\n"
     ]
    },
    {
     "data": {
      "text/plain": [
       "Counter({1: 251, -1: 343})"
      ]
     },
     "execution_count": 15,
     "metadata": {},
     "output_type": "execute_result"
    }
   ],
   "source": [
    "import time\n",
    "start_time = time.time()\n",
    "\n",
    "from scipy.spatial.distance import cdist\n",
    "\n",
    "value_gamma=0.00001\n",
    "SVM_oneclass_kernelPrecomputed = svm.OneClassSVM(kernel='precomputed', gamma=value_gamma, nu=0.5)\n",
    "# rbf kernel computation\n",
    "gram = np.exp(-value_gamma*cdist(data_train, data_train, 'euclidean')**2)\n",
    "SVM_oneclass_kernelPrecomputed.fit(gram) \n",
    "from scipy.spatial.distance import cdist\n",
    "\n",
    "# predict on training examples\n",
    "gram_valid = np.exp(-value_gamma*cdist(data_valid, data_train, 'euclidean')**2)\n",
    "pred_anomaly = SVM_oneclass_kernelPrecomputed.predict(gram_valid)\n",
    "\n",
    "\n",
    "print(\"--- %s seconds ---\" % (time.time() - start_time))\n",
    "from collections import Counter\n",
    "Counter(pred_anomaly)"
   ]
  },
  {
   "cell_type": "markdown",
   "metadata": {},
   "source": [
    "### Avec la paramètre 'rbf'"
   ]
  },
  {
   "cell_type": "code",
   "execution_count": 16,
   "metadata": {},
   "outputs": [
    {
     "name": "stdout",
     "output_type": "stream",
     "text": [
      "--- 192.33393740653992 seconds ---\n"
     ]
    },
    {
     "data": {
      "text/plain": [
       "Counter({1: 251, -1: 343})"
      ]
     },
     "execution_count": 16,
     "metadata": {},
     "output_type": "execute_result"
    }
   ],
   "source": [
    "import time\n",
    "start_time = time.time()\n",
    "\n",
    "kernel = 'rbf'\n",
    "gamma = 0.00001\n",
    "nu = 0.5\n",
    "SVM_oneclass = svm.OneClassSVM(kernel=kernel, gamma=gamma, nu=nu)\n",
    "SVM_oneclass.fit(data_train) \n",
    "pred_anomaly = SVM_oneclass.predict(data_valid)\n",
    "\n",
    "print(\"--- %s seconds ---\" % (time.time() - start_time))\n",
    "from collections import Counter\n",
    "Counter(pred_anomaly)"
   ]
  },
  {
   "cell_type": "markdown",
   "metadata": {},
   "source": [
    "Le temps de calcul en lui fournissant une matrice de gram pré-calculée, prend plus de temps. Faisons alors directement avec le paramètre 'rbf'."
   ]
  },
  {
   "cell_type": "markdown",
   "metadata": {},
   "source": [
    "## Algortihme de prédiction : SVM One-Class"
   ]
  },
  {
   "cell_type": "markdown",
   "metadata": {},
   "source": [
    "Sur le site https://defi-ia.insa-toulouse.fr/account, on a une colonne Recall (=Rappel), qui est de la forme $R=\\frac{TP}{TP+NP}$\n",
    "\n",
    "TP : True Positive : c'est le nombre d'anomalies qu'on a bien détectés. \n",
    "\n",
    "NP : nombre d'anomalies non détectés.\n",
    "\n",
    "TP+NP : c'est le nombre d'anomalies totale dans notre jeu de validation."
   ]
  },
  {
   "cell_type": "markdown",
   "metadata": {},
   "source": [
    "La meilleure équipe dans le classement pour le défi à un rappel de 0.996632996633.\n",
    "\n",
    "Imaginons qu'il lui manque une anomalie qui n'a pas été détecté.\n",
    "\n",
    "Ainsi, on essaye de trouve le nombre de True Positive : $R=\\frac{TP}{TP+1}=0.99663299633$\n",
    "\n",
    "On obtient TP qui est environ égale à 272."
   ]
  },
  {
   "cell_type": "markdown",
   "metadata": {},
   "source": [
    "On va essayer de trouver un nombre d'anomalies, -1, proche de 272 en changeant les paramètres : \n",
    "- nu \n",
    "- gammma\n",
    "\n",
    "\n",
    "### Paramètre nu"
   ]
  },
  {
   "cell_type": "code",
   "execution_count": 19,
   "metadata": {},
   "outputs": [
    {
     "data": {
      "text/html": [
       "<div>\n",
       "<style scoped>\n",
       "    .dataframe tbody tr th:only-of-type {\n",
       "        vertical-align: middle;\n",
       "    }\n",
       "\n",
       "    .dataframe tbody tr th {\n",
       "        vertical-align: top;\n",
       "    }\n",
       "\n",
       "    .dataframe thead th {\n",
       "        text-align: right;\n",
       "    }\n",
       "</style>\n",
       "<table border=\"1\" class=\"dataframe\">\n",
       "  <thead>\n",
       "    <tr style=\"text-align: right;\">\n",
       "      <th></th>\n",
       "      <th>0.30</th>\n",
       "      <th>0.35</th>\n",
       "      <th>0.40</th>\n",
       "      <th>0.50</th>\n",
       "    </tr>\n",
       "  </thead>\n",
       "  <tbody>\n",
       "    <tr>\n",
       "      <td>Count inliers</td>\n",
       "      <td>335</td>\n",
       "      <td>315</td>\n",
       "      <td>298</td>\n",
       "      <td>251</td>\n",
       "    </tr>\n",
       "    <tr>\n",
       "      <td>Count outliers</td>\n",
       "      <td>259</td>\n",
       "      <td>279</td>\n",
       "      <td>296</td>\n",
       "      <td>343</td>\n",
       "    </tr>\n",
       "  </tbody>\n",
       "</table>\n",
       "</div>"
      ],
      "text/plain": [
       "                0.30  0.35  0.40  0.50\n",
       "Count inliers    335   315   298   251\n",
       "Count outliers   259   279   296   343"
      ]
     },
     "execution_count": 19,
     "metadata": {},
     "output_type": "execute_result"
    }
   ],
   "source": [
    "tb_count_moins1 = pd.DataFrame(index = ['Count outliers'])\n",
    "tb_count_1 = pd.DataFrame(index = ['Count inliers'])\n",
    "\n",
    "seq_nu = [0.3, 0.35, 0.4, 0.5]\n",
    "for nu_i in seq_nu:\n",
    "    tb_pred = pd.DataFrame()\n",
    "    SVM_oneclass = svm.OneClassSVM(kernel=\"rbf\", gamma=0.00001, nu=nu_i)\n",
    "    SVM_oneclass.fit(data_train) \n",
    "    pred_anomaly = SVM_oneclass.predict(data_valid)\n",
    "    \n",
    "    tb_count_1[nu_i] = [int(Counter(pred_anomaly)[1])]\n",
    "    tb_count_moins1[nu_i] = [int(Counter(pred_anomaly)[-1])]\n",
    "    \n",
    "tb_count_nu = pd.concat([tb_count_1, tb_count_moins1])\n",
    "tb_count_nu"
   ]
  },
  {
   "cell_type": "markdown",
   "metadata": {},
   "source": [
    "Le nombre d'outliers se rapproche de 272 avec nu=0.35."
   ]
  },
  {
   "cell_type": "markdown",
   "metadata": {},
   "source": [
    "## Paramètre gamma"
   ]
  },
  {
   "cell_type": "code",
   "execution_count": 20,
   "metadata": {},
   "outputs": [
    {
     "data": {
      "text/html": [
       "<div>\n",
       "<style scoped>\n",
       "    .dataframe tbody tr th:only-of-type {\n",
       "        vertical-align: middle;\n",
       "    }\n",
       "\n",
       "    .dataframe tbody tr th {\n",
       "        vertical-align: top;\n",
       "    }\n",
       "\n",
       "    .dataframe thead th {\n",
       "        text-align: right;\n",
       "    }\n",
       "</style>\n",
       "<table border=\"1\" class=\"dataframe\">\n",
       "  <thead>\n",
       "    <tr style=\"text-align: right;\">\n",
       "      <th></th>\n",
       "      <th>0.00100</th>\n",
       "      <th>0.00050</th>\n",
       "      <th>0.00010</th>\n",
       "      <th>0.00005</th>\n",
       "      <th>0.00001</th>\n",
       "    </tr>\n",
       "  </thead>\n",
       "  <tbody>\n",
       "    <tr>\n",
       "      <td>Count inliers</td>\n",
       "      <td>116</td>\n",
       "      <td>167</td>\n",
       "      <td>279</td>\n",
       "      <td>312</td>\n",
       "      <td>315</td>\n",
       "    </tr>\n",
       "    <tr>\n",
       "      <td>Count outliers</td>\n",
       "      <td>478</td>\n",
       "      <td>427</td>\n",
       "      <td>315</td>\n",
       "      <td>282</td>\n",
       "      <td>279</td>\n",
       "    </tr>\n",
       "  </tbody>\n",
       "</table>\n",
       "</div>"
      ],
      "text/plain": [
       "                0.00100  0.00050  0.00010  0.00005  0.00001\n",
       "Count inliers       116      167      279      312      315\n",
       "Count outliers      478      427      315      282      279"
      ]
     },
     "execution_count": 20,
     "metadata": {},
     "output_type": "execute_result"
    }
   ],
   "source": [
    "tb_count_moins1 = pd.DataFrame(index = ['Count outliers'])\n",
    "tb_count_1 = pd.DataFrame(index = ['Count inliers'])\n",
    "\n",
    "seq_gamma = [0.001, 0.0005, 0.0001, 0.00005, 0.00001]\n",
    "for gamma_i in seq_gamma:\n",
    "    tb_pred = pd.DataFrame()\n",
    "    SVM_oneclass = svm.OneClassSVM(kernel=\"rbf\", gamma=gamma_i, nu=0.35)\n",
    "    SVM_oneclass.fit(data_train) \n",
    "    pred_anomaly = SVM_oneclass.predict(data_valid)\n",
    "    \n",
    "    tb_count_1[gamma_i] = [int(Counter(pred_anomaly)[1])]\n",
    "    tb_count_moins1[gamma_i] = [int(Counter(pred_anomaly)[-1])]\n",
    "    \n",
    "tb_count_gamma = pd.concat([tb_count_1, tb_count_moins1])\n",
    "tb_count_gamma"
   ]
  },
  {
   "cell_type": "markdown",
   "metadata": {},
   "source": [
    "Le nombre d'outliers se rapproche de 272 avec gamma=0.00001"
   ]
  },
  {
   "cell_type": "markdown",
   "metadata": {},
   "source": [
    "## Faisons varier maintenant nu entre 0.30 et 0.35"
   ]
  },
  {
   "cell_type": "code",
   "execution_count": 28,
   "metadata": {},
   "outputs": [
    {
     "data": {
      "text/html": [
       "<div>\n",
       "<style scoped>\n",
       "    .dataframe tbody tr th:only-of-type {\n",
       "        vertical-align: middle;\n",
       "    }\n",
       "\n",
       "    .dataframe tbody tr th {\n",
       "        vertical-align: top;\n",
       "    }\n",
       "\n",
       "    .dataframe thead th {\n",
       "        text-align: right;\n",
       "    }\n",
       "</style>\n",
       "<table border=\"1\" class=\"dataframe\">\n",
       "  <thead>\n",
       "    <tr style=\"text-align: right;\">\n",
       "      <th></th>\n",
       "      <th>0.31</th>\n",
       "      <th>0.32</th>\n",
       "      <th>0.33</th>\n",
       "      <th>0.34</th>\n",
       "      <th>0.35</th>\n",
       "    </tr>\n",
       "  </thead>\n",
       "  <tbody>\n",
       "    <tr>\n",
       "      <td>Count inliers</td>\n",
       "      <td>330</td>\n",
       "      <td>327</td>\n",
       "      <td>320</td>\n",
       "      <td>318</td>\n",
       "      <td>315</td>\n",
       "    </tr>\n",
       "    <tr>\n",
       "      <td>Count outliers</td>\n",
       "      <td>264</td>\n",
       "      <td>267</td>\n",
       "      <td>274</td>\n",
       "      <td>276</td>\n",
       "      <td>279</td>\n",
       "    </tr>\n",
       "  </tbody>\n",
       "</table>\n",
       "</div>"
      ],
      "text/plain": [
       "                0.31  0.32  0.33  0.34  0.35\n",
       "Count inliers    330   327   320   318   315\n",
       "Count outliers   264   267   274   276   279"
      ]
     },
     "execution_count": 28,
     "metadata": {},
     "output_type": "execute_result"
    }
   ],
   "source": [
    "tb_count_moins1 = pd.DataFrame(index = ['Count outliers'])\n",
    "tb_count_1 = pd.DataFrame(index = ['Count inliers'])\n",
    "\n",
    "seq_nu = [0.31, 0.32, 0.33,0.34, 0.35]\n",
    "for nu_i in seq_nu:\n",
    "    tb_pred = pd.DataFrame()\n",
    "    SVM_oneclass = svm.OneClassSVM(kernel=\"rbf\", gamma=0.00001, nu=nu_i)\n",
    "    SVM_oneclass.fit(data_train) \n",
    "    pred_anomaly = SVM_oneclass.predict(data_valid)\n",
    "    \n",
    "    tb_count_1[nu_i] = [int(Counter(pred_anomaly)[1])]\n",
    "    tb_count_moins1[nu_i] = [int(Counter(pred_anomaly)[-1])]\n",
    "    \n",
    "tb_count_nu = pd.concat([tb_count_1, tb_count_moins1])\n",
    "tb_count_nu"
   ]
  },
  {
   "cell_type": "markdown",
   "metadata": {},
   "source": [
    "On choisit donc de garder les paramètre gamma=0.00001 et nu=0.33."
   ]
  },
  {
   "cell_type": "code",
   "execution_count": 31,
   "metadata": {},
   "outputs": [
    {
     "data": {
      "text/plain": [
       "Counter({1: 320, -1: 274})"
      ]
     },
     "execution_count": 31,
     "metadata": {},
     "output_type": "execute_result"
    }
   ],
   "source": [
    "SVM_oneclass = svm.OneClassSVM(kernel=\"rbf\", gamma=0.00001, nu=0.33)\n",
    "SVM_oneclass.fit(data_train) \n",
    "pred_anomaly = SVM_oneclass.predict(data_valid)\n",
    "Counter(pred_anomaly)"
   ]
  },
  {
   "cell_type": "code",
   "execution_count": 32,
   "metadata": {},
   "outputs": [],
   "source": [
    "pred_anomaly2 = pd.DataFrame(pred_anomaly)"
   ]
  },
  {
   "cell_type": "code",
   "execution_count": 33,
   "metadata": {},
   "outputs": [],
   "source": [
    "pred_anomaly2 = pred_anomaly2.replace(1, 0)\n",
    "pred_anomaly2 = pred_anomaly2.replace(-1, 1)"
   ]
  },
  {
   "cell_type": "code",
   "execution_count": 34,
   "metadata": {},
   "outputs": [],
   "source": [
    "data = {'seqID': np.arange(0,len(data_valid)), 'anomaly': pred_anomaly2[0]}\n",
    "y_test_template = pd.DataFrame(data)"
   ]
  },
  {
   "cell_type": "code",
   "execution_count": 35,
   "metadata": {},
   "outputs": [
    {
     "data": {
      "text/html": [
       "<div>\n",
       "<style scoped>\n",
       "    .dataframe tbody tr th:only-of-type {\n",
       "        vertical-align: middle;\n",
       "    }\n",
       "\n",
       "    .dataframe tbody tr th {\n",
       "        vertical-align: top;\n",
       "    }\n",
       "\n",
       "    .dataframe thead th {\n",
       "        text-align: right;\n",
       "    }\n",
       "</style>\n",
       "<table border=\"1\" class=\"dataframe\">\n",
       "  <thead>\n",
       "    <tr style=\"text-align: right;\">\n",
       "      <th></th>\n",
       "      <th>seqID</th>\n",
       "      <th>anomaly</th>\n",
       "    </tr>\n",
       "  </thead>\n",
       "  <tbody>\n",
       "    <tr>\n",
       "      <td>0</td>\n",
       "      <td>0</td>\n",
       "      <td>0</td>\n",
       "    </tr>\n",
       "    <tr>\n",
       "      <td>1</td>\n",
       "      <td>1</td>\n",
       "      <td>1</td>\n",
       "    </tr>\n",
       "    <tr>\n",
       "      <td>2</td>\n",
       "      <td>2</td>\n",
       "      <td>0</td>\n",
       "    </tr>\n",
       "    <tr>\n",
       "      <td>3</td>\n",
       "      <td>3</td>\n",
       "      <td>0</td>\n",
       "    </tr>\n",
       "    <tr>\n",
       "      <td>4</td>\n",
       "      <td>4</td>\n",
       "      <td>1</td>\n",
       "    </tr>\n",
       "    <tr>\n",
       "      <td>...</td>\n",
       "      <td>...</td>\n",
       "      <td>...</td>\n",
       "    </tr>\n",
       "    <tr>\n",
       "      <td>589</td>\n",
       "      <td>589</td>\n",
       "      <td>1</td>\n",
       "    </tr>\n",
       "    <tr>\n",
       "      <td>590</td>\n",
       "      <td>590</td>\n",
       "      <td>1</td>\n",
       "    </tr>\n",
       "    <tr>\n",
       "      <td>591</td>\n",
       "      <td>591</td>\n",
       "      <td>0</td>\n",
       "    </tr>\n",
       "    <tr>\n",
       "      <td>592</td>\n",
       "      <td>592</td>\n",
       "      <td>0</td>\n",
       "    </tr>\n",
       "    <tr>\n",
       "      <td>593</td>\n",
       "      <td>593</td>\n",
       "      <td>1</td>\n",
       "    </tr>\n",
       "  </tbody>\n",
       "</table>\n",
       "<p>594 rows × 2 columns</p>\n",
       "</div>"
      ],
      "text/plain": [
       "     seqID  anomaly\n",
       "0        0        0\n",
       "1        1        1\n",
       "2        2        0\n",
       "3        3        0\n",
       "4        4        1\n",
       "..     ...      ...\n",
       "589    589        1\n",
       "590    590        1\n",
       "591    591        0\n",
       "592    592        0\n",
       "593    593        1\n",
       "\n",
       "[594 rows x 2 columns]"
      ]
     },
     "execution_count": 35,
     "metadata": {},
     "output_type": "execute_result"
    }
   ],
   "source": [
    "y_test_template"
   ]
  },
  {
   "cell_type": "markdown",
   "metadata": {},
   "source": [
    "On s'assure que les données sont bien des entiers"
   ]
  },
  {
   "cell_type": "code",
   "execution_count": 36,
   "metadata": {},
   "outputs": [],
   "source": [
    "y_test_template[\"seqID\"] = y_test_template[\"seqID\"].astype(int)"
   ]
  },
  {
   "cell_type": "code",
   "execution_count": 37,
   "metadata": {},
   "outputs": [],
   "source": [
    "y_test_template[\"anomaly\"] = y_test_template[\"anomaly\"].astype(int)"
   ]
  },
  {
   "cell_type": "markdown",
   "metadata": {},
   "source": [
    "### Exportation du fichier sous .csv"
   ]
  },
  {
   "cell_type": "code",
   "execution_count": 38,
   "metadata": {},
   "outputs": [],
   "source": [
    "y_test_template.to_csv('y_test_template_soumission_6.csv',  index = False, sep=\";\")"
   ]
  },
  {
   "cell_type": "markdown",
   "metadata": {},
   "source": [
    "Le F1 Score est de: 0.86865 avec cette méthode et ces hyperparamètres.\n",
    "\n",
    "Precision: 0.90511\n",
    "\n",
    "Recall: 0.83502"
   ]
  },
  {
   "cell_type": "markdown",
   "metadata": {},
   "source": [
    "## Isolation Forest"
   ]
  },
  {
   "cell_type": "markdown",
   "metadata": {},
   "source": [
    "Idée principale derrière l'algorithme isolation forest : L'algorithme isole chaque point et sépare les points en outliers et inliers. L'algorithme identifie les outliers en fonction du temps/chemin pour isoler le point. Plus l'algorithme mettra de temps à isoler un point plus la probabilité d'un point étant outlier diminue. Un point facile à isoler sera donc nécessairement un outlier.\n",
    "\n",
    "Cet algorithme est particulièrement efficace en grande dimension. Ce qui est intéressant ici c'est qu'on peut rentrer un paramètre de contamination aka le pourcentage d'outlier dans notre data set.\n",
    "\n",
    "Hyperparamètres : \n",
    "- n_estimators : nombres d'arbres de décision dans la forêt (en général 100 ok)\n",
    "- max_samples : nombre d'échantillons à tirer de X pour former chaque estimateur (auto?)\n",
    "- max_features : nombre de variables à tirer de X pour former chaque estimateur\n",
    "- contamination : proportion d'outliers (0?)"
   ]
  },
  {
   "cell_type": "code",
   "execution_count": 4,
   "metadata": {},
   "outputs": [],
   "source": [
    "from sklearn.ensemble import IsolationForest\n",
    "from sklearn import model_selection\n",
    "from sklearn.metrics import f1_score, make_scorer\n",
    "from collections import Counter"
   ]
  },
  {
   "cell_type": "markdown",
   "metadata": {},
   "source": [
    "Testons dans un premier temps l'algorithme en laissant nos hyperparamètres par défaut"
   ]
  },
  {
   "cell_type": "code",
   "execution_count": null,
   "metadata": {},
   "outputs": [],
   "source": [
    "clf = IsolationForest(contamination = 'auto', behaviour = 'new', random_state = np.random.RandomState(42), n_jobs = -1)\n",
    "model = clf.fit(data_train)"
   ]
  },
  {
   "cell_type": "code",
   "execution_count": null,
   "metadata": {},
   "outputs": [],
   "source": [
    "predictions = model.predict(data_valid)"
   ]
  },
  {
   "cell_type": "code",
   "execution_count": null,
   "metadata": {},
   "outputs": [],
   "source": [
    "Counter(predictions)"
   ]
  },
  {
   "cell_type": "markdown",
   "metadata": {},
   "source": [
    "On a donc obtenu un score de 0.82 en f1-score, 1 en précision et 0.70 en recall (plutôt intéressant!)"
   ]
  },
  {
   "cell_type": "markdown",
   "metadata": {},
   "source": [
    "On peut ainsi chercher à ajuster au mieux nos paramètres pour améliorer l'algorithme et se rapprocher de 300 outliers par validation croisée"
   ]
  },
  {
   "cell_type": "code",
   "execution_count": 5,
   "metadata": {},
   "outputs": [
    {
     "data": {
      "text/html": [
       "<div>\n",
       "<style scoped>\n",
       "    .dataframe tbody tr th:only-of-type {\n",
       "        vertical-align: middle;\n",
       "    }\n",
       "\n",
       "    .dataframe tbody tr th {\n",
       "        vertical-align: top;\n",
       "    }\n",
       "\n",
       "    .dataframe thead th {\n",
       "        text-align: right;\n",
       "    }\n",
       "</style>\n",
       "<table border=\"1\" class=\"dataframe\">\n",
       "  <thead>\n",
       "    <tr style=\"text-align: right;\">\n",
       "      <th></th>\n",
       "      <th>(0.1, 0.1)</th>\n",
       "      <th>(0.1, 0.2)</th>\n",
       "      <th>(0.1, 0.3)</th>\n",
       "      <th>(0.1, 0.4)</th>\n",
       "      <th>(0.1, 0.5)</th>\n",
       "      <th>(0.25, 0.1)</th>\n",
       "      <th>(0.25, 0.2)</th>\n",
       "      <th>(0.25, 0.3)</th>\n",
       "      <th>(0.25, 0.4)</th>\n",
       "      <th>(0.25, 0.5)</th>\n",
       "      <th>...</th>\n",
       "      <th>(0.75, 0.1)</th>\n",
       "      <th>(0.75, 0.2)</th>\n",
       "      <th>(0.75, 0.3)</th>\n",
       "      <th>(0.75, 0.4)</th>\n",
       "      <th>(0.75, 0.5)</th>\n",
       "      <th>(1, 0.1)</th>\n",
       "      <th>(1, 0.2)</th>\n",
       "      <th>(1, 0.3)</th>\n",
       "      <th>(1, 0.4)</th>\n",
       "      <th>(1, 0.5)</th>\n",
       "    </tr>\n",
       "  </thead>\n",
       "  <tbody>\n",
       "    <tr>\n",
       "      <th>Count inliers</th>\n",
       "      <td>375</td>\n",
       "      <td>347</td>\n",
       "      <td>323</td>\n",
       "      <td>292</td>\n",
       "      <td>251</td>\n",
       "      <td>378</td>\n",
       "      <td>348</td>\n",
       "      <td>330</td>\n",
       "      <td>297</td>\n",
       "      <td>262</td>\n",
       "      <td>...</td>\n",
       "      <td>375</td>\n",
       "      <td>358</td>\n",
       "      <td>333</td>\n",
       "      <td>301</td>\n",
       "      <td>264</td>\n",
       "      <td>370</td>\n",
       "      <td>350</td>\n",
       "      <td>329</td>\n",
       "      <td>292</td>\n",
       "      <td>257</td>\n",
       "    </tr>\n",
       "    <tr>\n",
       "      <th>Count outliers</th>\n",
       "      <td>219</td>\n",
       "      <td>247</td>\n",
       "      <td>271</td>\n",
       "      <td>302</td>\n",
       "      <td>343</td>\n",
       "      <td>216</td>\n",
       "      <td>246</td>\n",
       "      <td>264</td>\n",
       "      <td>297</td>\n",
       "      <td>332</td>\n",
       "      <td>...</td>\n",
       "      <td>219</td>\n",
       "      <td>236</td>\n",
       "      <td>261</td>\n",
       "      <td>293</td>\n",
       "      <td>330</td>\n",
       "      <td>224</td>\n",
       "      <td>244</td>\n",
       "      <td>265</td>\n",
       "      <td>302</td>\n",
       "      <td>337</td>\n",
       "    </tr>\n",
       "  </tbody>\n",
       "</table>\n",
       "<p>2 rows × 25 columns</p>\n",
       "</div>"
      ],
      "text/plain": [
       "                (0.1, 0.1)  (0.1, 0.2)  (0.1, 0.3)  (0.1, 0.4)  (0.1, 0.5)  \\\n",
       "Count inliers          375         347         323         292         251   \n",
       "Count outliers         219         247         271         302         343   \n",
       "\n",
       "                (0.25, 0.1)  (0.25, 0.2)  (0.25, 0.3)  (0.25, 0.4)  \\\n",
       "Count inliers           378          348          330          297   \n",
       "Count outliers          216          246          264          297   \n",
       "\n",
       "                (0.25, 0.5)  ...  (0.75, 0.1)  (0.75, 0.2)  (0.75, 0.3)  \\\n",
       "Count inliers           262  ...          375          358          333   \n",
       "Count outliers          332  ...          219          236          261   \n",
       "\n",
       "                (0.75, 0.4)  (0.75, 0.5)  (1, 0.1)  (1, 0.2)  (1, 0.3)  \\\n",
       "Count inliers           301          264       370       350       329   \n",
       "Count outliers          293          330       224       244       265   \n",
       "\n",
       "                (1, 0.4)  (1, 0.5)  \n",
       "Count inliers        292       257  \n",
       "Count outliers       302       337  \n",
       "\n",
       "[2 rows x 25 columns]"
      ]
     },
     "execution_count": 5,
     "metadata": {},
     "output_type": "execute_result"
    }
   ],
   "source": [
    "max_features = [0.1, 0.25, 0.5, 0.75, 1]\n",
    "tb_count_moins1 = pd.DataFrame(index = ['Count outliers'])\n",
    "tb_count_1 = pd.DataFrame(index = ['Count inliers'])\n",
    "contamination = [0.1, 0.2, 0.3, 0.4, 0.5]\n",
    "\n",
    "for i in max_features:\n",
    "    for j in contamination:\n",
    "        tb_pred = pd.DataFrame()\n",
    "        clf = IsolationForest(contamination = j, behaviour = 'new', random_state = np.random.RandomState(42), max_features = i, n_jobs = -1)\n",
    "        clf.fit(data_train) \n",
    "        pred_anomaly = clf.predict(data_valid)\n",
    "        \n",
    "        tb_count_1[i,j] = [int(Counter(pred_anomaly)[1])]\n",
    "        tb_count_moins1[i,j] = [int(Counter(pred_anomaly)[-1])]\n",
    "    \n",
    "tb_count_nu = pd.concat([tb_count_1, tb_count_moins1])\n",
    "tb_count_nu"
   ]
  },
  {
   "cell_type": "markdown",
   "metadata": {},
   "source": [
    "Testons un submit avec pour paramètre de contamination 0.4 et de max_features = 0.25"
   ]
  },
  {
   "cell_type": "code",
   "execution_count": 8,
   "metadata": {},
   "outputs": [],
   "source": [
    "clf = IsolationForest(contamination = 0.4, max_features = 0.25, behaviour = 'new', random_state = np.random.RandomState(42), n_jobs = -1)\n",
    "model = clf.fit(data_train)"
   ]
  },
  {
   "cell_type": "code",
   "execution_count": 9,
   "metadata": {},
   "outputs": [
    {
     "data": {
      "text/plain": [
       "Counter({1: 297, -1: 297})"
      ]
     },
     "execution_count": 9,
     "metadata": {},
     "output_type": "execute_result"
    }
   ],
   "source": [
    "predictions = model.predict(data_valid)\n",
    "Counter(predictions)"
   ]
  },
  {
   "cell_type": "code",
   "execution_count": 10,
   "metadata": {},
   "outputs": [],
   "source": [
    "pred_anomaly2 = pd.DataFrame(pred_anomaly)\n",
    "pred_anomaly2 = pred_anomaly2.replace(1, 0)\n",
    "pred_anomaly2 = pred_anomaly2.replace(-1, 1)\n",
    "data = {'seqID': np.arange(0,len(data_valid)), 'anomaly': pred_anomaly2[0]}\n",
    "y_test_template = pd.DataFrame(data)"
   ]
  },
  {
   "cell_type": "code",
   "execution_count": 11,
   "metadata": {},
   "outputs": [
    {
     "data": {
      "text/html": [
       "<div>\n",
       "<style scoped>\n",
       "    .dataframe tbody tr th:only-of-type {\n",
       "        vertical-align: middle;\n",
       "    }\n",
       "\n",
       "    .dataframe tbody tr th {\n",
       "        vertical-align: top;\n",
       "    }\n",
       "\n",
       "    .dataframe thead th {\n",
       "        text-align: right;\n",
       "    }\n",
       "</style>\n",
       "<table border=\"1\" class=\"dataframe\">\n",
       "  <thead>\n",
       "    <tr style=\"text-align: right;\">\n",
       "      <th></th>\n",
       "      <th>seqID</th>\n",
       "      <th>anomaly</th>\n",
       "    </tr>\n",
       "  </thead>\n",
       "  <tbody>\n",
       "    <tr>\n",
       "      <th>0</th>\n",
       "      <td>0</td>\n",
       "      <td>0</td>\n",
       "    </tr>\n",
       "    <tr>\n",
       "      <th>1</th>\n",
       "      <td>1</td>\n",
       "      <td>1</td>\n",
       "    </tr>\n",
       "    <tr>\n",
       "      <th>2</th>\n",
       "      <td>2</td>\n",
       "      <td>0</td>\n",
       "    </tr>\n",
       "    <tr>\n",
       "      <th>3</th>\n",
       "      <td>3</td>\n",
       "      <td>0</td>\n",
       "    </tr>\n",
       "    <tr>\n",
       "      <th>4</th>\n",
       "      <td>4</td>\n",
       "      <td>1</td>\n",
       "    </tr>\n",
       "    <tr>\n",
       "      <th>5</th>\n",
       "      <td>5</td>\n",
       "      <td>1</td>\n",
       "    </tr>\n",
       "    <tr>\n",
       "      <th>6</th>\n",
       "      <td>6</td>\n",
       "      <td>0</td>\n",
       "    </tr>\n",
       "    <tr>\n",
       "      <th>7</th>\n",
       "      <td>7</td>\n",
       "      <td>1</td>\n",
       "    </tr>\n",
       "    <tr>\n",
       "      <th>8</th>\n",
       "      <td>8</td>\n",
       "      <td>1</td>\n",
       "    </tr>\n",
       "    <tr>\n",
       "      <th>9</th>\n",
       "      <td>9</td>\n",
       "      <td>0</td>\n",
       "    </tr>\n",
       "    <tr>\n",
       "      <th>10</th>\n",
       "      <td>10</td>\n",
       "      <td>0</td>\n",
       "    </tr>\n",
       "    <tr>\n",
       "      <th>11</th>\n",
       "      <td>11</td>\n",
       "      <td>0</td>\n",
       "    </tr>\n",
       "    <tr>\n",
       "      <th>12</th>\n",
       "      <td>12</td>\n",
       "      <td>1</td>\n",
       "    </tr>\n",
       "    <tr>\n",
       "      <th>13</th>\n",
       "      <td>13</td>\n",
       "      <td>0</td>\n",
       "    </tr>\n",
       "    <tr>\n",
       "      <th>14</th>\n",
       "      <td>14</td>\n",
       "      <td>1</td>\n",
       "    </tr>\n",
       "    <tr>\n",
       "      <th>15</th>\n",
       "      <td>15</td>\n",
       "      <td>0</td>\n",
       "    </tr>\n",
       "    <tr>\n",
       "      <th>16</th>\n",
       "      <td>16</td>\n",
       "      <td>1</td>\n",
       "    </tr>\n",
       "    <tr>\n",
       "      <th>17</th>\n",
       "      <td>17</td>\n",
       "      <td>1</td>\n",
       "    </tr>\n",
       "    <tr>\n",
       "      <th>18</th>\n",
       "      <td>18</td>\n",
       "      <td>0</td>\n",
       "    </tr>\n",
       "    <tr>\n",
       "      <th>19</th>\n",
       "      <td>19</td>\n",
       "      <td>1</td>\n",
       "    </tr>\n",
       "    <tr>\n",
       "      <th>20</th>\n",
       "      <td>20</td>\n",
       "      <td>1</td>\n",
       "    </tr>\n",
       "    <tr>\n",
       "      <th>21</th>\n",
       "      <td>21</td>\n",
       "      <td>1</td>\n",
       "    </tr>\n",
       "    <tr>\n",
       "      <th>22</th>\n",
       "      <td>22</td>\n",
       "      <td>0</td>\n",
       "    </tr>\n",
       "    <tr>\n",
       "      <th>23</th>\n",
       "      <td>23</td>\n",
       "      <td>1</td>\n",
       "    </tr>\n",
       "    <tr>\n",
       "      <th>24</th>\n",
       "      <td>24</td>\n",
       "      <td>1</td>\n",
       "    </tr>\n",
       "    <tr>\n",
       "      <th>25</th>\n",
       "      <td>25</td>\n",
       "      <td>1</td>\n",
       "    </tr>\n",
       "    <tr>\n",
       "      <th>26</th>\n",
       "      <td>26</td>\n",
       "      <td>0</td>\n",
       "    </tr>\n",
       "    <tr>\n",
       "      <th>27</th>\n",
       "      <td>27</td>\n",
       "      <td>1</td>\n",
       "    </tr>\n",
       "    <tr>\n",
       "      <th>28</th>\n",
       "      <td>28</td>\n",
       "      <td>1</td>\n",
       "    </tr>\n",
       "    <tr>\n",
       "      <th>29</th>\n",
       "      <td>29</td>\n",
       "      <td>0</td>\n",
       "    </tr>\n",
       "    <tr>\n",
       "      <th>...</th>\n",
       "      <td>...</td>\n",
       "      <td>...</td>\n",
       "    </tr>\n",
       "    <tr>\n",
       "      <th>564</th>\n",
       "      <td>564</td>\n",
       "      <td>0</td>\n",
       "    </tr>\n",
       "    <tr>\n",
       "      <th>565</th>\n",
       "      <td>565</td>\n",
       "      <td>1</td>\n",
       "    </tr>\n",
       "    <tr>\n",
       "      <th>566</th>\n",
       "      <td>566</td>\n",
       "      <td>0</td>\n",
       "    </tr>\n",
       "    <tr>\n",
       "      <th>567</th>\n",
       "      <td>567</td>\n",
       "      <td>1</td>\n",
       "    </tr>\n",
       "    <tr>\n",
       "      <th>568</th>\n",
       "      <td>568</td>\n",
       "      <td>1</td>\n",
       "    </tr>\n",
       "    <tr>\n",
       "      <th>569</th>\n",
       "      <td>569</td>\n",
       "      <td>1</td>\n",
       "    </tr>\n",
       "    <tr>\n",
       "      <th>570</th>\n",
       "      <td>570</td>\n",
       "      <td>0</td>\n",
       "    </tr>\n",
       "    <tr>\n",
       "      <th>571</th>\n",
       "      <td>571</td>\n",
       "      <td>0</td>\n",
       "    </tr>\n",
       "    <tr>\n",
       "      <th>572</th>\n",
       "      <td>572</td>\n",
       "      <td>0</td>\n",
       "    </tr>\n",
       "    <tr>\n",
       "      <th>573</th>\n",
       "      <td>573</td>\n",
       "      <td>1</td>\n",
       "    </tr>\n",
       "    <tr>\n",
       "      <th>574</th>\n",
       "      <td>574</td>\n",
       "      <td>0</td>\n",
       "    </tr>\n",
       "    <tr>\n",
       "      <th>575</th>\n",
       "      <td>575</td>\n",
       "      <td>1</td>\n",
       "    </tr>\n",
       "    <tr>\n",
       "      <th>576</th>\n",
       "      <td>576</td>\n",
       "      <td>1</td>\n",
       "    </tr>\n",
       "    <tr>\n",
       "      <th>577</th>\n",
       "      <td>577</td>\n",
       "      <td>1</td>\n",
       "    </tr>\n",
       "    <tr>\n",
       "      <th>578</th>\n",
       "      <td>578</td>\n",
       "      <td>1</td>\n",
       "    </tr>\n",
       "    <tr>\n",
       "      <th>579</th>\n",
       "      <td>579</td>\n",
       "      <td>1</td>\n",
       "    </tr>\n",
       "    <tr>\n",
       "      <th>580</th>\n",
       "      <td>580</td>\n",
       "      <td>1</td>\n",
       "    </tr>\n",
       "    <tr>\n",
       "      <th>581</th>\n",
       "      <td>581</td>\n",
       "      <td>1</td>\n",
       "    </tr>\n",
       "    <tr>\n",
       "      <th>582</th>\n",
       "      <td>582</td>\n",
       "      <td>1</td>\n",
       "    </tr>\n",
       "    <tr>\n",
       "      <th>583</th>\n",
       "      <td>583</td>\n",
       "      <td>1</td>\n",
       "    </tr>\n",
       "    <tr>\n",
       "      <th>584</th>\n",
       "      <td>584</td>\n",
       "      <td>0</td>\n",
       "    </tr>\n",
       "    <tr>\n",
       "      <th>585</th>\n",
       "      <td>585</td>\n",
       "      <td>1</td>\n",
       "    </tr>\n",
       "    <tr>\n",
       "      <th>586</th>\n",
       "      <td>586</td>\n",
       "      <td>0</td>\n",
       "    </tr>\n",
       "    <tr>\n",
       "      <th>587</th>\n",
       "      <td>587</td>\n",
       "      <td>1</td>\n",
       "    </tr>\n",
       "    <tr>\n",
       "      <th>588</th>\n",
       "      <td>588</td>\n",
       "      <td>0</td>\n",
       "    </tr>\n",
       "    <tr>\n",
       "      <th>589</th>\n",
       "      <td>589</td>\n",
       "      <td>1</td>\n",
       "    </tr>\n",
       "    <tr>\n",
       "      <th>590</th>\n",
       "      <td>590</td>\n",
       "      <td>1</td>\n",
       "    </tr>\n",
       "    <tr>\n",
       "      <th>591</th>\n",
       "      <td>591</td>\n",
       "      <td>0</td>\n",
       "    </tr>\n",
       "    <tr>\n",
       "      <th>592</th>\n",
       "      <td>592</td>\n",
       "      <td>0</td>\n",
       "    </tr>\n",
       "    <tr>\n",
       "      <th>593</th>\n",
       "      <td>593</td>\n",
       "      <td>1</td>\n",
       "    </tr>\n",
       "  </tbody>\n",
       "</table>\n",
       "<p>594 rows × 2 columns</p>\n",
       "</div>"
      ],
      "text/plain": [
       "     seqID  anomaly\n",
       "0        0        0\n",
       "1        1        1\n",
       "2        2        0\n",
       "3        3        0\n",
       "4        4        1\n",
       "5        5        1\n",
       "6        6        0\n",
       "7        7        1\n",
       "8        8        1\n",
       "9        9        0\n",
       "10      10        0\n",
       "11      11        0\n",
       "12      12        1\n",
       "13      13        0\n",
       "14      14        1\n",
       "15      15        0\n",
       "16      16        1\n",
       "17      17        1\n",
       "18      18        0\n",
       "19      19        1\n",
       "20      20        1\n",
       "21      21        1\n",
       "22      22        0\n",
       "23      23        1\n",
       "24      24        1\n",
       "25      25        1\n",
       "26      26        0\n",
       "27      27        1\n",
       "28      28        1\n",
       "29      29        0\n",
       "..     ...      ...\n",
       "564    564        0\n",
       "565    565        1\n",
       "566    566        0\n",
       "567    567        1\n",
       "568    568        1\n",
       "569    569        1\n",
       "570    570        0\n",
       "571    571        0\n",
       "572    572        0\n",
       "573    573        1\n",
       "574    574        0\n",
       "575    575        1\n",
       "576    576        1\n",
       "577    577        1\n",
       "578    578        1\n",
       "579    579        1\n",
       "580    580        1\n",
       "581    581        1\n",
       "582    582        1\n",
       "583    583        1\n",
       "584    584        0\n",
       "585    585        1\n",
       "586    586        0\n",
       "587    587        1\n",
       "588    588        0\n",
       "589    589        1\n",
       "590    590        1\n",
       "591    591        0\n",
       "592    592        0\n",
       "593    593        1\n",
       "\n",
       "[594 rows x 2 columns]"
      ]
     },
     "execution_count": 11,
     "metadata": {},
     "output_type": "execute_result"
    }
   ],
   "source": [
    "y_test_template"
   ]
  },
  {
   "cell_type": "code",
   "execution_count": 12,
   "metadata": {},
   "outputs": [],
   "source": [
    "y_test_template.to_csv('y_test_template_soumission_7.csv',  index = False, sep=\";\")"
   ]
  },
  {
   "cell_type": "markdown",
   "metadata": {},
   "source": [
    "Sauvegardons notre tableau pour avoir à éviter de relance notre algorithme la prochaine fois"
   ]
  },
  {
   "cell_type": "code",
   "execution_count": 13,
   "metadata": {},
   "outputs": [],
   "source": [
    "tb_count_nu.to_pickle('tb_count.pkl')"
   ]
  },
  {
   "cell_type": "markdown",
   "metadata": {},
   "source": [
    "## Clustering-Based Anomaly Detection : DBSCAN, K-Means"
   ]
  },
  {
   "cell_type": "markdown",
   "metadata": {},
   "source": [
    "L'algorithme des K-Means est un algorithme de classification largement utilisé dans ce domaine. Il crée «k» des groupes similaires de points de données. Les instances de données qui ne font pas partie de ces groupes peuvent potentiellement être marquées comme des anomalies."
   ]
  },
  {
   "cell_type": "markdown",
   "metadata": {},
   "source": [
    "Contrairement aux k-means, l'algorithme de DBSCAN (density-based spatial clustering of applications with noise) ne nécéssite pas qu'on lui précise le nombre de clusters. \n",
    "\n",
    "L'algorithme DBSCAN prends en compte deux paramètres, la distance epsilon et le nombre de points minimum devant se trouver dans un rayon epsilon. L'idée est de prendre un point et récupérer les points voisins dans un rayon epsilon et de vérifier qu'il contient bien le nombre de points minimum fixé. Ainsi il permet d'identifier les données abérantes qui ne vérifient pas le nombre de voisins min."
   ]
  },
  {
   "cell_type": "markdown",
   "metadata": {},
   "source": [
    "**K-Means**"
   ]
  },
  {
   "cell_type": "code",
   "execution_count": 20,
   "metadata": {},
   "outputs": [],
   "source": [
    "data = pd.concat([data_train, data_valid])"
   ]
  },
  {
   "cell_type": "code",
   "execution_count": 23,
   "metadata": {},
   "outputs": [
    {
     "ename": "MemoryError",
     "evalue": "",
     "output_type": "error",
     "traceback": [
      "\u001b[1;31m---------------------------------------------------------------------------\u001b[0m",
      "\u001b[1;31mMemoryError\u001b[0m                               Traceback (most recent call last)",
      "\u001b[1;32m<ipython-input-23-1a2b2daefa70>\u001b[0m in \u001b[0;36m<module>\u001b[1;34m\u001b[0m\n\u001b[0;32m      2\u001b[0m \u001b[1;32mfor\u001b[0m \u001b[0mi\u001b[0m \u001b[1;32min\u001b[0m \u001b[0mrange\u001b[0m\u001b[1;33m(\u001b[0m\u001b[1;36m1\u001b[0m\u001b[1;33m,\u001b[0m\u001b[1;36m10\u001b[0m\u001b[1;33m)\u001b[0m\u001b[1;33m:\u001b[0m\u001b[1;33m\u001b[0m\u001b[1;33m\u001b[0m\u001b[0m\n\u001b[0;32m      3\u001b[0m     \u001b[0mkmeans\u001b[0m \u001b[1;33m=\u001b[0m \u001b[0mKMeans\u001b[0m\u001b[1;33m(\u001b[0m\u001b[0mn_clusters\u001b[0m \u001b[1;33m=\u001b[0m \u001b[0mi\u001b[0m\u001b[1;33m)\u001b[0m\u001b[1;33m\u001b[0m\u001b[1;33m\u001b[0m\u001b[0m\n\u001b[1;32m----> 4\u001b[1;33m     \u001b[0mkmeans\u001b[0m\u001b[1;33m.\u001b[0m\u001b[0mfit\u001b[0m\u001b[1;33m(\u001b[0m\u001b[0mdata\u001b[0m\u001b[1;33m)\u001b[0m\u001b[1;33m\u001b[0m\u001b[1;33m\u001b[0m\u001b[0m\n\u001b[0m\u001b[0;32m      5\u001b[0m     \u001b[0minertia\u001b[0m\u001b[1;33m.\u001b[0m\u001b[0mappend\u001b[0m\u001b[1;33m(\u001b[0m\u001b[0mkmeans\u001b[0m\u001b[1;33m.\u001b[0m\u001b[0minertia_\u001b[0m\u001b[1;33m)\u001b[0m\u001b[1;33m\u001b[0m\u001b[1;33m\u001b[0m\u001b[0m\n",
      "\u001b[1;32m~\\Anaconda3\\lib\\site-packages\\sklearn\\cluster\\k_means_.py\u001b[0m in \u001b[0;36mfit\u001b[1;34m(self, X, y, sample_weight)\u001b[0m\n\u001b[0;32m    967\u001b[0m                 \u001b[0mtol\u001b[0m\u001b[1;33m=\u001b[0m\u001b[0mself\u001b[0m\u001b[1;33m.\u001b[0m\u001b[0mtol\u001b[0m\u001b[1;33m,\u001b[0m \u001b[0mrandom_state\u001b[0m\u001b[1;33m=\u001b[0m\u001b[0mrandom_state\u001b[0m\u001b[1;33m,\u001b[0m \u001b[0mcopy_x\u001b[0m\u001b[1;33m=\u001b[0m\u001b[0mself\u001b[0m\u001b[1;33m.\u001b[0m\u001b[0mcopy_x\u001b[0m\u001b[1;33m,\u001b[0m\u001b[1;33m\u001b[0m\u001b[1;33m\u001b[0m\u001b[0m\n\u001b[0;32m    968\u001b[0m                 \u001b[0mn_jobs\u001b[0m\u001b[1;33m=\u001b[0m\u001b[0mself\u001b[0m\u001b[1;33m.\u001b[0m\u001b[0mn_jobs\u001b[0m\u001b[1;33m,\u001b[0m \u001b[0malgorithm\u001b[0m\u001b[1;33m=\u001b[0m\u001b[0mself\u001b[0m\u001b[1;33m.\u001b[0m\u001b[0malgorithm\u001b[0m\u001b[1;33m,\u001b[0m\u001b[1;33m\u001b[0m\u001b[1;33m\u001b[0m\u001b[0m\n\u001b[1;32m--> 969\u001b[1;33m                 return_n_iter=True)\n\u001b[0m\u001b[0;32m    970\u001b[0m         \u001b[1;32mreturn\u001b[0m \u001b[0mself\u001b[0m\u001b[1;33m\u001b[0m\u001b[1;33m\u001b[0m\u001b[0m\n\u001b[0;32m    971\u001b[0m \u001b[1;33m\u001b[0m\u001b[0m\n",
      "\u001b[1;32m~\\Anaconda3\\lib\\site-packages\\sklearn\\cluster\\k_means_.py\u001b[0m in \u001b[0;36mk_means\u001b[1;34m(X, n_clusters, sample_weight, init, precompute_distances, n_init, max_iter, verbose, tol, random_state, copy_x, n_jobs, algorithm, return_n_iter)\u001b[0m\n\u001b[0;32m    313\u001b[0m             _num_samples(X), n_clusters))\n\u001b[0;32m    314\u001b[0m \u001b[1;33m\u001b[0m\u001b[0m\n\u001b[1;32m--> 315\u001b[1;33m     \u001b[0mtol\u001b[0m \u001b[1;33m=\u001b[0m \u001b[0m_tolerance\u001b[0m\u001b[1;33m(\u001b[0m\u001b[0mX\u001b[0m\u001b[1;33m,\u001b[0m \u001b[0mtol\u001b[0m\u001b[1;33m)\u001b[0m\u001b[1;33m\u001b[0m\u001b[1;33m\u001b[0m\u001b[0m\n\u001b[0m\u001b[0;32m    316\u001b[0m \u001b[1;33m\u001b[0m\u001b[0m\n\u001b[0;32m    317\u001b[0m     \u001b[1;31m# If the distances are precomputed every job will create a matrix of shape\u001b[0m\u001b[1;33m\u001b[0m\u001b[1;33m\u001b[0m\u001b[1;33m\u001b[0m\u001b[0m\n",
      "\u001b[1;32m~\\Anaconda3\\lib\\site-packages\\sklearn\\cluster\\k_means_.py\u001b[0m in \u001b[0;36m_tolerance\u001b[1;34m(X, tol)\u001b[0m\n\u001b[0;32m    163\u001b[0m         \u001b[0mvariances\u001b[0m \u001b[1;33m=\u001b[0m \u001b[0mmean_variance_axis\u001b[0m\u001b[1;33m(\u001b[0m\u001b[0mX\u001b[0m\u001b[1;33m,\u001b[0m \u001b[0maxis\u001b[0m\u001b[1;33m=\u001b[0m\u001b[1;36m0\u001b[0m\u001b[1;33m)\u001b[0m\u001b[1;33m[\u001b[0m\u001b[1;36m1\u001b[0m\u001b[1;33m]\u001b[0m\u001b[1;33m\u001b[0m\u001b[1;33m\u001b[0m\u001b[0m\n\u001b[0;32m    164\u001b[0m     \u001b[1;32melse\u001b[0m\u001b[1;33m:\u001b[0m\u001b[1;33m\u001b[0m\u001b[1;33m\u001b[0m\u001b[0m\n\u001b[1;32m--> 165\u001b[1;33m         \u001b[0mvariances\u001b[0m \u001b[1;33m=\u001b[0m \u001b[0mnp\u001b[0m\u001b[1;33m.\u001b[0m\u001b[0mvar\u001b[0m\u001b[1;33m(\u001b[0m\u001b[0mX\u001b[0m\u001b[1;33m,\u001b[0m \u001b[0maxis\u001b[0m\u001b[1;33m=\u001b[0m\u001b[1;36m0\u001b[0m\u001b[1;33m)\u001b[0m\u001b[1;33m\u001b[0m\u001b[1;33m\u001b[0m\u001b[0m\n\u001b[0m\u001b[0;32m    166\u001b[0m     \u001b[1;32mreturn\u001b[0m \u001b[0mnp\u001b[0m\u001b[1;33m.\u001b[0m\u001b[0mmean\u001b[0m\u001b[1;33m(\u001b[0m\u001b[0mvariances\u001b[0m\u001b[1;33m)\u001b[0m \u001b[1;33m*\u001b[0m \u001b[0mtol\u001b[0m\u001b[1;33m\u001b[0m\u001b[1;33m\u001b[0m\u001b[0m\n\u001b[0;32m    167\u001b[0m \u001b[1;33m\u001b[0m\u001b[0m\n",
      "\u001b[1;32m~\\Anaconda3\\lib\\site-packages\\numpy\\core\\fromnumeric.py\u001b[0m in \u001b[0;36mvar\u001b[1;34m(a, axis, dtype, out, ddof, keepdims)\u001b[0m\n\u001b[0;32m   3365\u001b[0m \u001b[1;33m\u001b[0m\u001b[0m\n\u001b[0;32m   3366\u001b[0m     return _methods._var(a, axis=axis, dtype=dtype, out=out, ddof=ddof,\n\u001b[1;32m-> 3367\u001b[1;33m                          **kwargs)\n\u001b[0m\u001b[0;32m   3368\u001b[0m \u001b[1;33m\u001b[0m\u001b[0m\n\u001b[0;32m   3369\u001b[0m \u001b[1;33m\u001b[0m\u001b[0m\n",
      "\u001b[1;32m~\\Anaconda3\\lib\\site-packages\\numpy\\core\\_methods.py\u001b[0m in \u001b[0;36m_var\u001b[1;34m(a, axis, dtype, out, ddof, keepdims)\u001b[0m\n\u001b[0;32m    115\u001b[0m     \u001b[1;31m# Note that x may not be inexact and that we need it to be an array,\u001b[0m\u001b[1;33m\u001b[0m\u001b[1;33m\u001b[0m\u001b[1;33m\u001b[0m\u001b[0m\n\u001b[0;32m    116\u001b[0m     \u001b[1;31m# not a scalar.\u001b[0m\u001b[1;33m\u001b[0m\u001b[1;33m\u001b[0m\u001b[1;33m\u001b[0m\u001b[0m\n\u001b[1;32m--> 117\u001b[1;33m     \u001b[0mx\u001b[0m \u001b[1;33m=\u001b[0m \u001b[0masanyarray\u001b[0m\u001b[1;33m(\u001b[0m\u001b[0marr\u001b[0m \u001b[1;33m-\u001b[0m \u001b[0marrmean\u001b[0m\u001b[1;33m)\u001b[0m\u001b[1;33m\u001b[0m\u001b[1;33m\u001b[0m\u001b[0m\n\u001b[0m\u001b[0;32m    118\u001b[0m     \u001b[1;32mif\u001b[0m \u001b[0missubclass\u001b[0m\u001b[1;33m(\u001b[0m\u001b[0marr\u001b[0m\u001b[1;33m.\u001b[0m\u001b[0mdtype\u001b[0m\u001b[1;33m.\u001b[0m\u001b[0mtype\u001b[0m\u001b[1;33m,\u001b[0m \u001b[0mnt\u001b[0m\u001b[1;33m.\u001b[0m\u001b[0mcomplexfloating\u001b[0m\u001b[1;33m)\u001b[0m\u001b[1;33m:\u001b[0m\u001b[1;33m\u001b[0m\u001b[1;33m\u001b[0m\u001b[0m\n\u001b[0;32m    119\u001b[0m         \u001b[0mx\u001b[0m \u001b[1;33m=\u001b[0m \u001b[0mum\u001b[0m\u001b[1;33m.\u001b[0m\u001b[0mmultiply\u001b[0m\u001b[1;33m(\u001b[0m\u001b[0mx\u001b[0m\u001b[1;33m,\u001b[0m \u001b[0mum\u001b[0m\u001b[1;33m.\u001b[0m\u001b[0mconjugate\u001b[0m\u001b[1;33m(\u001b[0m\u001b[0mx\u001b[0m\u001b[1;33m)\u001b[0m\u001b[1;33m,\u001b[0m \u001b[0mout\u001b[0m\u001b[1;33m=\u001b[0m\u001b[0mx\u001b[0m\u001b[1;33m)\u001b[0m\u001b[1;33m.\u001b[0m\u001b[0mreal\u001b[0m\u001b[1;33m\u001b[0m\u001b[1;33m\u001b[0m\u001b[0m\n",
      "\u001b[1;31mMemoryError\u001b[0m: "
     ]
    }
   ],
   "source": [
    "inertia = []\n",
    "for i in range(1,10):\n",
    "    kmeans = KMeans(n_clusters = i)\n",
    "    kmeans.fit(data)\n",
    "    inertia.append(kmeans.inertia_)"
   ]
  },
  {
   "cell_type": "code",
   "execution_count": null,
   "metadata": {},
   "outputs": [],
   "source": [
    "plt.plot(range(1, 10), inertia)\n",
    "plt.title('Méthode du coude')\n",
    "plt.xlabel('Nombre de clusters')\n",
    "plt.ylabel('Inertie intra classes') #within cluster sum of squares\n",
    "plt.show()"
   ]
  },
  {
   "cell_type": "code",
   "execution_count": null,
   "metadata": {},
   "outputs": [],
   "source": [
    "kmeans = KMeans(n_clusters = 3)\n",
    "model = kmeans.fit(data)"
   ]
  },
  {
   "cell_type": "code",
   "execution_count": null,
   "metadata": {},
   "outputs": [],
   "source": [
    "def dist_centroide(data, model):\n",
    "    distance = pd.Series()\n",
    "    nbcluster = model.labels_.max()\n",
    "    for i in range(0,len(data)):\n",
    "        Xa = np.array(data.loc[i])\n",
    "        dist = []\n",
    "        for j in range(0, nbcluster):\n",
    "            if model.labels_[i] != j:\n",
    "                Xb = model.cluster_centers_[j]\n",
    "                dist.append(np.linalg.norm(Xa-Xb))\n",
    "        distance.set_value(i, min(dist))\n",
    "    return distance"
   ]
  },
  {
   "cell_type": "code",
   "execution_count": null,
   "metadata": {},
   "outputs": [],
   "source": [
    "distance = dist_centroide(data, model)\n",
    "nb_outliers = 300\n",
    "seuil = distance.nlargest(nb_outliers).min()\n",
    "data_valid['anomaly'] = (distance >= seuil).astype(int)"
   ]
  },
  {
   "cell_type": "markdown",
   "metadata": {},
   "source": [
    "**DBSCAN**"
   ]
  },
  {
   "cell_type": "code",
   "execution_count": 25,
   "metadata": {},
   "outputs": [],
   "source": [
    "minPts = int(np.log(len(data)))"
   ]
  },
  {
   "cell_type": "code",
   "execution_count": 26,
   "metadata": {},
   "outputs": [],
   "source": [
    "from sklearn.neighbors import NearestNeighbors\n",
    "neigh = NearestNeighbors(n_neighbors=minPts)\n",
    "nbrs = neigh.fit(data)\n",
    "distances, indices = nbrs.kneighbors(data)"
   ]
  },
  {
   "cell_type": "markdown",
   "metadata": {},
   "source": [
    "On trie nos distances et on trace l'évolution de nos distances. On prendra epsilon optimal au changement de valeur le plus prononcé."
   ]
  },
  {
   "cell_type": "code",
   "execution_count": 27,
   "metadata": {},
   "outputs": [
    {
     "data": {
      "text/plain": [
       "[<matplotlib.lines.Line2D at 0x1bc39442ef0>]"
      ]
     },
     "execution_count": 27,
     "metadata": {},
     "output_type": "execute_result"
    },
    {
     "data": {
      "image/png": "[encoded data removed]",
      "text/plain": [
       "<Figure size 432x288 with 1 Axes>"
      ]
     },
     "metadata": {
      "needs_background": "light"
     },
     "output_type": "display_data"
    }
   ],
   "source": [
    "distances = np.sort(distances, axis=0)\n",
    "distances = distances[:,1]\n",
    "plt.plot(distances)"
   ]
  },
  {
   "cell_type": "code",
   "execution_count": 29,
   "metadata": {},
   "outputs": [],
   "source": [
    "from sklearn.cluster import DBSCAN\n",
    "outliers = DBSCAN(eps = 200, metric = \"euclidean\", n_jobs = -1, min_samples = minPts)\n",
    "clf = outliers.fit(data)"
   ]
  },
  {
   "cell_type": "code",
   "execution_count": 30,
   "metadata": {},
   "outputs": [],
   "source": [
    "labels = clf.labels_\n",
    "n_clusters_ = len(set(labels)) - (1 if -1 in labels else 0)\n",
    "n_noise_ = list(labels).count(-1)"
   ]
  },
  {
   "cell_type": "code",
   "execution_count": 31,
   "metadata": {},
   "outputs": [
    {
     "name": "stdout",
     "output_type": "stream",
     "text": [
      "Estimated number of clusters: 4\n",
      "Estimated number of noise points: 585\n"
     ]
    }
   ],
   "source": [
    "print('Estimated number of clusters: %d' % n_clusters_)\n",
    "print('Estimated number of noise points: %d' % n_noise_)"
   ]
  },
  {
   "cell_type": "code",
   "execution_count": null,
   "metadata": {},
   "outputs": [],
   "source": []
  }
 ],
 "metadata": {
  "kernelspec": {
   "display_name": "Python 3",
   "language": "python",
   "name": "python3"
  },
  "language_info": {
   "codemirror_mode": {
    "name": "ipython",
    "version": 3
   },
   "file_extension": ".py",
   "mimetype": "text/x-python",
   "name": "python",
   "nbconvert_exporter": "python",
   "pygments_lexer": "ipython3",
   "version": "3.7.3"
  }
 },
 "nbformat": 4,
 "nbformat_minor": 4
}
