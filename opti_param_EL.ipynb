{
 "cells": [
  {
   "cell_type": "markdown",
   "metadata": {},
   "source": [
    "## Optimisation des hyperparamètres Nu et Gamma\n",
    "\n",
    "Paramètre nu: limite supérieure sur la fraction d'erreurs de marge et une limite inférieure de la fraction des vecteurs supports p/rap au nombre total d'exemples d'entrainement.\n",
    "Si on le fixe à 0.95, on est assuré d'avoir au plus 95% de nos exemples d'entrainement mal classés mais au moins 95% des exemples seront des vecteurs supports."
   ]
  },
  {
   "cell_type": "code",
   "execution_count": 1,
   "metadata": {},
   "outputs": [],
   "source": [
    "from sklearn import model_selection\n",
    "from sklearn.model_selection import GridSearchCV\n",
    "import pandas as pd\n",
    "import numpy as np\n",
    "from sklearn import svm"
   ]
  },
  {
   "cell_type": "code",
   "execution_count": 2,
   "metadata": {},
   "outputs": [],
   "source": [
    "data_train = pd.read_hdf('train.hdf5')\n",
    "data_valid = pd.read_hdf('validation.hdf5')\n",
    "\n",
    "data_train['y_train'] = 1\n",
    "x_train = data_train.iloc[:,0:61440]\n",
    "y_train = data_train.iloc[:,61440:61441]"
   ]
  },
  {
   "cell_type": "markdown",
   "metadata": {},
   "source": [
    "### Aperçu de la démarche à adopter pour le GridSearchCV"
   ]
  },
  {
   "cell_type": "code",
   "execution_count": null,
   "metadata": {},
   "outputs": [],
   "source": [
    "nus = [0.001, 0.01, 0.1, 1]\n",
    "gammas = [0.001, 0.01, 0.1, 1]\n",
    "# grille de paramètres\n",
    "tuned_parameters = {'kernel' : ['rbf'], 'gamma' : gammas, 'nu': nus}\n",
    "\n",
    "scores = ['precision', 'recall']\n",
    "for score in scores:\n",
    "    # initialiser une recherche sur grille\n",
    "    clf = GridSearchCV(svm.OneClassSVM(), tuned_parameters, cv=10,\n",
    "                           scoring='%s_macro' % score, return_train_score=True)\n",
    "    # faire tourner la recherche sur grille\n",
    "    clf.fit(X_train, y_train)\n",
    "    # grid.best_params_, grid.best_score_\n",
    "    resultDf = pd.DataFrame(clf.cv_results_)"
   ]
  },
  {
   "cell_type": "markdown",
   "metadata": {},
   "source": []
  },
  {
   "cell_type": "code",
   "execution_count": null,
   "metadata": {},
   "outputs": [],
   "source": [
    "tuned_parameters = {'kernel' : ['rbf'], 'gamma' : [0.001, 0.01, 0.1, 1], 'nu': [0.25, 0.5, 0.75, 0.95]}\n",
    "clf = GridSearchCV(svm.OneClassSVM(), tuned_parameters, cv=5,scoring='f1',return_train_score=True)\n",
    "clf.fit(x_train, y_train)\n",
    "resultDf = pd.DataFrame(clf.cv_results_)"
   ]
  },
  {
   "cell_type": "code",
   "execution_count": null,
   "metadata": {},
   "outputs": [],
   "source": [
    "pred_anomaly = clf.predict(data_valid)"
   ]
  },
  {
   "cell_type": "code",
   "execution_count": null,
   "metadata": {},
   "outputs": [],
   "source": [
    "from collections import Counter\n",
    "Counter(pred_anomaly)"
   ]
  },
  {
   "cell_type": "markdown",
   "metadata": {},
   "source": []
  },
  {
   "cell_type": "markdown",
   "metadata": {},
   "source": [
    "Autre idée: reprendre le script et boucler sur les deux paramètres à la fois"
   ]
  },
  {
   "cell_type": "code",
   "execution_count": null,
   "metadata": {},
   "outputs": [],
   "source": [
    "tb_count_moins1 = pd.DataFrame(index = ['Count outliers'])\n",
    "tb_count_1 = pd.DataFrame(index = ['Count inliers'])\n",
    "\n",
    "seq_gamma = [0.01, 0.001, 0.0001]\n",
    "seq_nu = [0.25, 0.5, 0.75, 0.95]\n",
    "for gamma_i in seq_gamma:\n",
    "    for nu_i in seq_nu:\n",
    "        tb_pred = pd.DataFrame()\n",
    "        SVM_oneclass = svm.OneClassSVM(kernel=\"rbf\", gamma=gamma_i, nu=nu_i)\n",
    "        SVM_oneclass.fit(data_train) \n",
    "        pred_anomaly = SVM_oneclass.predict(data_valid)\n",
    "        \n",
    "#         tb_count_1[gamma_i] = [int(Counter(pred_anomaly)[1])]\n",
    "#         tb_count_moins1[gamma_i] = [int(Counter(pred_anomaly)[-1])]\n",
    "#     tb_count_gamma = pd.concat([tb_count_1, tb_count_moins1])\n",
    "#     tb_count_gamma"
   ]
  },
  {
   "cell_type": "markdown",
   "metadata": {},
   "source": [
    "### Exportation du fichier y_test_template à soumettre"
   ]
  },
  {
   "cell_type": "code",
   "execution_count": null,
   "metadata": {},
   "outputs": [],
   "source": [
    "pred_anomaly = clf.predict(data_valid)\n",
    "from collections import Counter\n",
    "Counter(pred_anomaly)\n",
    "\n",
    "pred_anomaly2 = pd.DataFrame(pred_anomaly)\n",
    "pred_anomaly2 = pred_anomaly2.replace(1, 0)\n",
    "pred_anomaly2 = pred_anomaly2.replace(-1, 1)\n",
    "data = {'seqID': np.arange(0,len(data_valid)), 'anomaly': pred_anomaly2[0]}\n",
    "y_test_template = pd.DataFrame(data)\n",
    "\n",
    "anomalies = y_test_template[y_test_template.anomaly == 1]\n",
    "y_anomaly = pd.DataFrame(anomalies)\n",
    "y_anomaly.head()"
   ]
  },
  {
   "cell_type": "code",
   "execution_count": null,
   "metadata": {},
   "outputs": [],
   "source": []
  }
 ],
 "metadata": {
  "kernelspec": {
   "display_name": "Python 3",
   "language": "python",
   "name": "python3"
  },
  "language_info": {
   "codemirror_mode": {
    "name": "ipython",
    "version": 3
   },
   "file_extension": ".py",
   "mimetype": "text/x-python",
   "name": "python",
   "nbconvert_exporter": "python",
   "pygments_lexer": "ipython3",
   "version": "3.7.3"
  }
 },
 "nbformat": 4,
 "nbformat_minor": 2
}
